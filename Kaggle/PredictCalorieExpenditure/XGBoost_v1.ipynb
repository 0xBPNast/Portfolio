{
 "cells": [
  {
   "cell_type": "code",
   "execution_count": 1,
   "id": "ea790dbb",
   "metadata": {},
   "outputs": [],
   "source": [
    "import numpy as np\n",
    "import pandas as pd\n",
    "import seaborn as sns\n",
    "import matplotlib.pyplot as plt\n",
    "from sklearn.model_selection import train_test_split, GridSearchCV\n",
    "from sklearn.preprocessing import LabelEncoder, StandardScaler\n",
    "from sklearn.metrics import mean_squared_error, r2_score\n",
    "from sklearn.ensemble import RandomForestRegressor"
   ]
  },
  {
   "cell_type": "code",
   "execution_count": 2,
   "id": "a5ba31ed",
   "metadata": {},
   "outputs": [
    {
     "name": "stdout",
     "output_type": "stream",
     "text": [
      "Loading data...\n",
      "Ensure 'train.csv' and 'test.csv' are in the same directory as the script.\n",
      "Using dummy data for demonstration purposes.\n"
     ]
    }
   ],
   "source": [
    "# Set a random seed for reproducibility of splits and model training\n",
    "RANDOM_STATE = 42\n",
    "\n",
    "### Load train & test data\n",
    "print(\"Loading data...\")\n",
    "try:\n",
    "    df_train_orig = pd.read_csv(\"train.csv\")\n",
    "    df_test_orig = pd.read_csv(\"test.csv\")\n",
    "except FileNotFoundError:\n",
    "    print(\"Ensure 'train.csv' and 'test.csv' are in the same directory as the script.\")\n",
    "    print(\"Using dummy data for demonstration purposes.\")\n",
    "    # Create dummy data if files are not found\n",
    "    num_train_samples = 1000\n",
    "    num_test_samples = 500\n",
    "    num_features = 5\n",
    "    df_train_orig = pd.DataFrame(np.random.rand(num_train_samples, num_features), columns=[f'feature_{i}' for i in range(num_features)])\n",
    "    df_train_orig['Sex'] = np.random.choice(['male', 'female'], num_train_samples)\n",
    "    df_train_orig['id'] = np.arange(num_train_samples)\n",
    "    df_train_orig['Calories'] = np.random.rand(num_train_samples) * 500 + 50\n",
    "\n",
    "    df_test_orig = pd.DataFrame(np.random.rand(num_test_samples, num_features), columns=[f'feature_{i}' for i in range(num_features)])\n",
    "    df_test_orig['Sex'] = np.random.choice(['male', 'female'], num_test_samples)\n",
    "    df_test_orig['id'] = np.arange(num_test_samples) + num_train_samples"
   ]
  },
  {
   "cell_type": "code",
   "execution_count": null,
   "id": "7eb6043b",
   "metadata": {},
   "outputs": [],
   "source": []
  }
 ],
 "metadata": {
  "kernelspec": {
   "display_name": "base",
   "language": "python",
   "name": "python3"
  },
  "language_info": {
   "codemirror_mode": {
    "name": "ipython",
    "version": 3
   },
   "file_extension": ".py",
   "mimetype": "text/x-python",
   "name": "python",
   "nbconvert_exporter": "python",
   "pygments_lexer": "ipython3",
   "version": "3.10.9"
  }
 },
 "nbformat": 4,
 "nbformat_minor": 5
}
