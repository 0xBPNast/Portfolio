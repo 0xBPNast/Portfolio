{
 "cells": [
  {
   "cell_type": "code",
   "execution_count": 1,
   "id": "4caef9bd",
   "metadata": {},
   "outputs": [],
   "source": [
    "import numpy as np\n",
    "import pandas as pd\n",
    "\n",
    "from sklearn.preprocessing import LabelEncoder\n",
    "from xgboost import XGBClassifier\n",
    "from sklearn.model_selection import StratifiedKFold"
   ]
  },
  {
   "cell_type": "code",
   "execution_count": 8,
   "id": "416670b8",
   "metadata": {},
   "outputs": [],
   "source": [
    "train = pd.read_csv(\"playground-series-s5e6/train.csv\")\n",
    "test = pd.read_csv(\"playground-series-s5e6/test.csv\")\n",
    "original = pd.read_csv(\"playground-series-s5e6/Fertilizer Prediction.csv\")"
   ]
  },
  {
   "cell_type": "code",
   "execution_count": 9,
   "id": "e4031b48",
   "metadata": {},
   "outputs": [
    {
     "data": {
      "text/html": [
       "<div>\n",
       "<style scoped>\n",
       "    .dataframe tbody tr th:only-of-type {\n",
       "        vertical-align: middle;\n",
       "    }\n",
       "\n",
       "    .dataframe tbody tr th {\n",
       "        vertical-align: top;\n",
       "    }\n",
       "\n",
       "    .dataframe thead th {\n",
       "        text-align: right;\n",
       "    }\n",
       "</style>\n",
       "<table border=\"1\" class=\"dataframe\">\n",
       "  <thead>\n",
       "    <tr style=\"text-align: right;\">\n",
       "      <th></th>\n",
       "      <th>id</th>\n",
       "      <th>Temparature</th>\n",
       "      <th>Humidity</th>\n",
       "      <th>Moisture</th>\n",
       "      <th>Soil Type</th>\n",
       "      <th>Crop Type</th>\n",
       "      <th>Nitrogen</th>\n",
       "      <th>Potassium</th>\n",
       "      <th>Phosphorous</th>\n",
       "      <th>Fertilizer Name</th>\n",
       "    </tr>\n",
       "  </thead>\n",
       "  <tbody>\n",
       "    <tr>\n",
       "      <th>0</th>\n",
       "      <td>0</td>\n",
       "      <td>37</td>\n",
       "      <td>70</td>\n",
       "      <td>36</td>\n",
       "      <td>Clayey</td>\n",
       "      <td>Sugarcane</td>\n",
       "      <td>36</td>\n",
       "      <td>4</td>\n",
       "      <td>5</td>\n",
       "      <td>28-28</td>\n",
       "    </tr>\n",
       "    <tr>\n",
       "      <th>1</th>\n",
       "      <td>1</td>\n",
       "      <td>27</td>\n",
       "      <td>69</td>\n",
       "      <td>65</td>\n",
       "      <td>Sandy</td>\n",
       "      <td>Millets</td>\n",
       "      <td>30</td>\n",
       "      <td>6</td>\n",
       "      <td>18</td>\n",
       "      <td>28-28</td>\n",
       "    </tr>\n",
       "    <tr>\n",
       "      <th>2</th>\n",
       "      <td>2</td>\n",
       "      <td>29</td>\n",
       "      <td>63</td>\n",
       "      <td>32</td>\n",
       "      <td>Sandy</td>\n",
       "      <td>Millets</td>\n",
       "      <td>24</td>\n",
       "      <td>12</td>\n",
       "      <td>16</td>\n",
       "      <td>17-17-17</td>\n",
       "    </tr>\n",
       "  </tbody>\n",
       "</table>\n",
       "</div>"
      ],
      "text/plain": [
       "   id  Temparature  Humidity  Moisture Soil Type  Crop Type  Nitrogen  \\\n",
       "0   0           37        70        36    Clayey  Sugarcane        36   \n",
       "1   1           27        69        65     Sandy    Millets        30   \n",
       "2   2           29        63        32     Sandy    Millets        24   \n",
       "\n",
       "   Potassium  Phosphorous Fertilizer Name  \n",
       "0          4            5           28-28  \n",
       "1          6           18           28-28  \n",
       "2         12           16        17-17-17  "
      ]
     },
     "execution_count": 9,
     "metadata": {},
     "output_type": "execute_result"
    }
   ],
   "source": [
    "# Since the \"original\" dataset follows the same format, we can concat to the\n",
    "# training dataset\n",
    "#train = pd.concat([train, original], axis=0, ignore_index=True)\n",
    "train.head(3)"
   ]
  },
  {
   "cell_type": "code",
   "execution_count": 10,
   "id": "004aacc7",
   "metadata": {},
   "outputs": [],
   "source": [
    "cat_cols = [col for col in train.select_dtypes(include=['object', 'category']).columns \n",
    "            if col != \"Fertilizer Name\"]\n",
    "\n",
    "for i in cat_cols:\n",
    "    label_enc = LabelEncoder()\n",
    "    train[i] = label_enc.fit_transform(train[i])\n",
    "    test[i] = label_enc.transform(test[i])\n",
    "\n",
    "fer_label_enc = LabelEncoder()\n",
    "train[\"Fertilizer Name\"] = fer_label_enc.fit_transform(train[\"Fertilizer Name\"])\n",
    "\n",
    "for col in cat_cols:\n",
    "    train[col] = train[col].astype(\"category\")\n",
    "    test[col] = test[col].astype(\"category\")\n",
    "\n",
    "##############################################Dataset#########################################\n",
    "\n",
    "X = train.drop(columns=[\"id\", \"Fertilizer Name\"])\n",
    "y = train[\"Fertilizer Name\"]\n",
    "X_test = test.drop(columns=[\"id\"])"
   ]
  },
  {
   "cell_type": "code",
   "execution_count": 11,
   "id": "c546fa4a",
   "metadata": {},
   "outputs": [
    {
     "name": "stdout",
     "output_type": "stream",
     "text": [
      "############### 1 ###############\n",
      "✅ FOLD 1: MAP@3 Score: 0.35278\n",
      "############### 2 ###############\n",
      "✅ FOLD 2: MAP@3 Score: 0.35458\n",
      "############### 3 ###############\n",
      "✅ FOLD 3: MAP@3 Score: 0.35589\n",
      "############### 4 ###############\n",
      "✅ FOLD 4: MAP@3 Score: 0.35461\n",
      "############### 5 ###############\n",
      "✅ FOLD 5: MAP@3 Score: 0.35423\n"
     ]
    }
   ],
   "source": [
    "def mapk(actual, predicted, k=3):\n",
    "    def apk(a, p, k):\n",
    "        p = p[:k]\n",
    "        score = 0.0\n",
    "        hits = 0\n",
    "        seen = set()\n",
    "        for i, pred in enumerate(p):\n",
    "            if pred in a and pred not in seen:\n",
    "                hits += 1\n",
    "                score += hits / (i + 1.0)\n",
    "                seen.add(pred)\n",
    "        return score / min(len(a), k)\n",
    "    return np.mean([apk(a, p, k) for a, p in zip(actual, predicted)])\n",
    "\n",
    "# Training\n",
    "FOLDS = 5\n",
    "#skf = KFold(n_splits=FOLDS, shuffle=True, random_state=42)\n",
    "skf = StratifiedKFold(n_splits=FOLDS, shuffle=True, random_state=42)\n",
    "\n",
    "oof = np.zeros(shape = (len(train) ,y.nunique()))\n",
    "pred_prob = np.zeros(shape = (len(test),y.nunique()))\n",
    "\n",
    "xgb_model = XGBClassifier(\n",
    "    max_depth=12,\n",
    "    colsample_bytree=0.467,\n",
    "    subsample=0.86,\n",
    "    n_estimators=4000,\n",
    "    learning_rate=0.03,\n",
    "    gamma=0.26,\n",
    "    max_delta_step=4,\n",
    "    reg_alpha=2.7,\n",
    "    reg_lambda=1.4,\n",
    "    early_stopping_rounds=100,\n",
    "    objective='multi:softprob',\n",
    "    random_state=13,\n",
    "    enable_categorical=True,\n",
    "    tree_method='hist',     \n",
    "    device='cuda'           \n",
    ")\n",
    "\n",
    "for i, (train_idx, valid_idx) in enumerate(skf.split(X,y)):\n",
    "    print('#' * 15, i+1, '#' *15)\n",
    "    x_train, x_valid = X.iloc[train_idx],X.iloc[valid_idx]\n",
    "    y_train, y_valid = y.iloc[train_idx],y.iloc[valid_idx]\n",
    "\n",
    "    xgb_model.fit(x_train,y_train, eval_set=[(x_valid,y_valid)],verbose = 0)\n",
    "    oof[valid_idx] = xgb_model.predict_proba(x_valid)\n",
    "    pred_prob +=xgb_model.predict_proba(X_test)\n",
    "\n",
    "    top_3_preds = np.argsort(oof[valid_idx], axis=1)[:, -3:][:, ::-1]  \n",
    "    actual = [[label] for label in y_valid]\n",
    "    map3_score = mapk(actual, top_3_preds)\n",
    "    print(f\"✅ FOLD {i+1}: MAP@3 Score: {map3_score:.5f}\")"
   ]
  },
  {
   "cell_type": "code",
   "execution_count": 12,
   "id": "869f296b",
   "metadata": {},
   "outputs": [
    {
     "name": "stdout",
     "output_type": "stream",
     "text": [
      "✅ Submission file saved as 'submission.csv'\n"
     ]
    }
   ],
   "source": [
    "top_3_preds = np.argsort(pred_prob, axis=1)[:, -3:][:, ::-1]\n",
    "top_3_labels = fer_label_enc.inverse_transform(top_3_preds.ravel()).reshape(top_3_preds.shape)\n",
    "df_sub = pd.read_csv(\"playground-series-s5e6/sample_submission.csv\")\n",
    "submission = pd.DataFrame({\n",
    "    'id': df_sub['id'],\n",
    "    'Fertilizer Name': [' '.join(row) for row in top_3_labels]\n",
    "})\n",
    "\n",
    "submission.to_csv('xgbclassv1_submission_2.csv', index=False)\n",
    "print(\"✅ Submission file saved as 'submission.csv'\")"
   ]
  },
  {
   "cell_type": "code",
   "execution_count": null,
   "id": "da0eb813",
   "metadata": {},
   "outputs": [],
   "source": []
  },
  {
   "cell_type": "code",
   "execution_count": null,
   "id": "a7209203",
   "metadata": {},
   "outputs": [],
   "source": []
  }
 ],
 "metadata": {
  "kernelspec": {
   "display_name": "base",
   "language": "python",
   "name": "python3"
  },
  "language_info": {
   "codemirror_mode": {
    "name": "ipython",
    "version": 3
   },
   "file_extension": ".py",
   "mimetype": "text/x-python",
   "name": "python",
   "nbconvert_exporter": "python",
   "pygments_lexer": "ipython3",
   "version": "3.10.9"
  }
 },
 "nbformat": 4,
 "nbformat_minor": 5
}
