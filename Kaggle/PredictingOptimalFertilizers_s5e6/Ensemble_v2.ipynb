{
 "cells": [
  {
   "cell_type": "markdown",
   "id": "3630d6cc",
   "metadata": {},
   "source": [
    "# 1. Imports, custom functions, etc."
   ]
  },
  {
   "cell_type": "code",
   "execution_count": 1,
   "id": "8340fa94",
   "metadata": {},
   "outputs": [],
   "source": [
    "import matplotlib.pyplot as plt\n",
    "import seaborn as sns\n",
    "import pandas as pd\n",
    "import numpy as np\n",
    "\n",
    "from lightgbm import LGBMClassifier, log_evaluation, early_stopping\n",
    "from sklearn.feature_selection import mutual_info_classif\n",
    "from sklearn.linear_model import LogisticRegression\n",
    "from sklearn.model_selection import StratifiedKFold\n",
    "from sklearn.preprocessing import LabelEncoder\n",
    "from sklearn.base import clone\n",
    "from xgboost import XGBClassifier\n",
    "\n",
    "import warnings\n",
    "import pickle\n",
    "import joblib\n",
    "import optuna\n",
    "import shutil\n",
    "import glob\n",
    "import json\n",
    "import gc\n",
    "\n",
    "warnings.filterwarnings(\"ignore\")"
   ]
  },
  {
   "cell_type": "code",
   "execution_count": 2,
   "id": "34d9f6a9",
   "metadata": {},
   "outputs": [],
   "source": [
    "class configs:\n",
    "\n",
    "    train_path = \"playground-series-s5e6/train.csv\"\n",
    "    test_path = \"playground-series-s5e6/test.csv\"\n",
    "    original_path = \"playground-series-s5e6/Fertilizer Prediction.csv\"\n",
    "    sample_sub_path = \"playground-series-s5e6/sample_submission.csv\"\n",
    "\n",
    "    target = \"Fertilizer Name\"\n",
    "    n_folds = 5\n",
    "    seed = 42"
   ]
  },
  {
   "cell_type": "code",
   "execution_count": 3,
   "id": "adf3d8ac",
   "metadata": {},
   "outputs": [],
   "source": [
    "def map3(y_true, y_pred_probs):\n",
    "    y_true = [[x] for x in y_true]\n",
    "    y_pred_probs = np.argsort(y_pred_probs, axis=1)[:, -3:][:, ::-1].tolist()\n",
    "    \n",
    "    def ap3(y_true, y_pred_probs):\n",
    "        y_pred_probs = y_pred_probs[:3]\n",
    "\n",
    "        score = 0.0\n",
    "        num_hits = 0.0\n",
    "\n",
    "        for i,p in enumerate(y_pred_probs):\n",
    "            if p in y_true and p not in y_pred_probs[:i]:\n",
    "                num_hits += 1.0\n",
    "                score += num_hits / (i+1.0)\n",
    "\n",
    "        if not y_true:\n",
    "            return 0.0\n",
    "\n",
    "        return score\n",
    "    \n",
    "    return np.mean([ap3(a,p) for a,p in zip(y_true, y_pred_probs)])"
   ]
  },
  {
   "cell_type": "code",
   "execution_count": 4,
   "id": "a148601c",
   "metadata": {},
   "outputs": [],
   "source": [
    "class Trainer:\n",
    "    def __init__(self, model, config=configs):\n",
    "        self.model = model\n",
    "        self.config = config\n",
    "        self.fitted_model = None  # Will hold the best model\n",
    "\n",
    "    def fit_predict(self, X, y, X_test, X_original=None, y_original=None, fit_args={}):\n",
    "        print(f\"Training {self.model.__class__.__name__}\\n\")\n",
    "        \n",
    "        scores = []\n",
    "        oof_pred_probs = np.zeros((X.shape[0], y.nunique()))\n",
    "        test_pred_probs = np.zeros((X_test.shape[0], y.nunique()))\n",
    "        \n",
    "        best_score = -np.inf  # For tracking the best fold model\n",
    "        \n",
    "        skf = StratifiedKFold(n_splits=self.config.n_folds, random_state=self.config.seed, shuffle=True)\n",
    "        for fold_idx, (train_idx, val_idx) in enumerate(skf.split(X, y)):\n",
    "            X_train, X_val = X.iloc[train_idx], X.iloc[val_idx]\n",
    "            y_train, y_val = y[train_idx], y[val_idx]\n",
    "\n",
    "            if X_original is not None and y_original is not None:\n",
    "                X_train = pd.concat([X_train, X_original])\n",
    "                y_train = pd.concat([y_train, y_original])\n",
    "            \n",
    "            model = clone(self.model)\n",
    "            \n",
    "            if fit_args:\n",
    "                model.fit(X_train, y_train, **fit_args, eval_set=[(X_val, y_val)])\n",
    "            else:\n",
    "                model.fit(X_train, y_train)\n",
    "            \n",
    "            y_pred_probs = model.predict_proba(X_val)\n",
    "            oof_pred_probs[val_idx] = y_pred_probs\n",
    "            \n",
    "            temp_test_pred_probs = model.predict_proba(X_test)\n",
    "            test_pred_probs += temp_test_pred_probs / self.config.n_folds\n",
    "            \n",
    "            score = map3(y_val, y_pred_probs)\n",
    "            scores.append(score)\n",
    "\n",
    "            if score > best_score:\n",
    "                best_score = score\n",
    "                self.fitted_model = model\n",
    "\n",
    "            del model, X_train, y_train, X_val, y_val, y_pred_probs\n",
    "            gc.collect()\n",
    "            \n",
    "            print(f\"--- Fold {fold_idx + 1} - MAP@3: {score:.6f}\")\n",
    "                            \n",
    "        overall_score = map3(y, oof_pred_probs)\n",
    "        print(f\"\\n------ Overall MAP@3: {overall_score:.6f} | Average MAP@3: {np.mean(scores):.6f} ± {np.std(scores):.6f}\")\n",
    "        \n",
    "        # Save the best model using joblib\n",
    "        #if self.fitted_model is not None:\n",
    "        #    model_name = self.fitted_model.__class__.__name__\n",
    "        #    filename = f\"best_model_{model_name}.pkl\"\n",
    "        #    joblib.dump(self.fitted_model, filename)\n",
    "        #    print(f\"✅ Best model saved to: {filename}\")\n",
    "        \n",
    "        return oof_pred_probs, test_pred_probs, scores\n",
    "\n",
    "    def tune(self, X, y):\n",
    "        scores = []\n",
    "        skf = StratifiedKFold(n_splits=self.config.n_folds, random_state=self.config.seed, shuffle=True)\n",
    "        for fold_idx, (train_idx, val_idx) in enumerate(skf.split(X, y)):\n",
    "            X_train, X_val = X.iloc[train_idx], X.iloc[val_idx]\n",
    "            y_train, y_val = y[train_idx], y[val_idx]\n",
    "            \n",
    "            model = clone(self.model)\n",
    "            model.fit(X_train, y_train)\n",
    "            \n",
    "            y_pred_probs = model.predict_proba(X_val)\n",
    "            score = map3(y_val, y_pred_probs)\n",
    "            scores.append(score)\n",
    "            \n",
    "            del model, X_train, y_train, X_val, y_val, y_pred_probs\n",
    "            gc.collect()\n",
    "            \n",
    "        return np.mean(scores)"
   ]
  },
  {
   "cell_type": "markdown",
   "id": "6db48ece",
   "metadata": {},
   "source": [
    "# 2. Load required datasets"
   ]
  },
  {
   "cell_type": "code",
   "execution_count": 5,
   "id": "913e1357",
   "metadata": {},
   "outputs": [],
   "source": [
    "# Load train & test data\n",
    "train = pd.read_csv(configs.train_path, index_col=\"id\")\n",
    "test = pd.read_csv(configs.test_path, index_col=\"id\")\n",
    "original = pd.read_csv(configs.original_path)\n",
    "\n",
    "cat_cols = train.select_dtypes(include=\"object\").columns.tolist()\n",
    "cat_cols = [c for c in cat_cols if c != \"Fertilizer Name\"]\n",
    "train[cat_cols] = train[cat_cols].astype(str).astype(\"category\")\n",
    "test[cat_cols] = test[cat_cols].astype(str).astype(\"category\")\n",
    "original[cat_cols] = original[cat_cols].astype(str).astype(\"category\")\n",
    "\n",
    "# Encode target \"Fertilizer Name\"\n",
    "label_encoder = LabelEncoder()\n",
    "train[configs.target] = label_encoder.fit_transform(train[configs.target])\n",
    "original[configs.target] = label_encoder.transform(original[configs.target])\n",
    "\n",
    "X = train.drop(configs.target, axis=1)\n",
    "y = train[configs.target]\n",
    "X_test = test"
   ]
  },
  {
   "cell_type": "markdown",
   "id": "7d1ddcff",
   "metadata": {},
   "source": [
    "# 3. Load oof_preds & test_preds from previous"
   ]
  },
  {
   "cell_type": "code",
   "execution_count": 6,
   "id": "760165a7",
   "metadata": {},
   "outputs": [
    {
     "name": "stdout",
     "output_type": "stream",
     "text": [
      "Keys in oof_pred_probs: ['LightGBM (gbdt)', 'LightGBM (goss)', 'XGBoost', 'AutoGluon', 'TabTransformer']\n",
      "Keys in test_pred_probs: ['LightGBM (gbdt)', 'LightGBM (goss)', 'XGBoost', 'AutoGluon', 'TabTransformer']\n",
      "\n",
      "Shapes of OOF Predictions:\n",
      "LightGBM (gbdt): (750000, 7)\n",
      "LightGBM (goss): (750000, 7)\n",
      "XGBoost: (750000, 7)\n",
      "AutoGluon: (750000, 7)\n",
      "TabTransformer: (750000, 7)\n",
      "\n",
      "Shapes of Test Predictions:\n",
      "LightGBM (gbdt): (250000, 7)\n",
      "LightGBM (goss): (250000, 7)\n",
      "XGBoost: (250000, 7)\n",
      "AutoGluon: (250000, 7)\n",
      "TabTransformer: (250000, 7)\n"
     ]
    }
   ],
   "source": [
    "# Load OOF preds from .pkl\n",
    "with open(\"oof_preds_full.pkl\", \"rb\") as f:\n",
    "    oof_pred_probs = pickle.load(f)\n",
    "\n",
    "# Load Test preds from .pkl\n",
    "with open(\"test_preds_full.pkl\", \"rb\") as f:\n",
    "    test_pred_probs = pickle.load(f)\n",
    "\n",
    "# Validate dictionary keys of loaded predictions\n",
    "print(\"Keys in oof_pred_probs:\", list(oof_pred_probs.keys()))\n",
    "print(\"Keys in test_pred_probs:\", list(test_pred_probs.keys()))\n",
    "\n",
    "# Validate shape of loaded precitions\n",
    "print(\"\\nShapes of OOF Predictions:\")\n",
    "for model_name, preds in oof_pred_probs.items():\n",
    "    print(f\"{model_name}: {preds.shape}\")\n",
    "\n",
    "print(\"\\nShapes of Test Predictions:\")\n",
    "for model_name, preds in test_pred_probs.items():\n",
    "    print(f\"{model_name}: {preds.shape}\")"
   ]
  },
  {
   "cell_type": "code",
   "execution_count": 8,
   "id": "a68fcb25",
   "metadata": {},
   "outputs": [],
   "source": [
    "scores = {}\n",
    "\n",
    "models = [\"LightGBM (gbdt)\", \"LightGBM (goss)\", \"XGBoost\", \"AutoGluon\", \"TabTransformer\"]\n",
    "model_keys = {\n",
    "    \"LightGBM (gbdt)\": \"LightGBM (gbdt)\",\n",
    "    \"LightGBM (goss)\": \"LightGBM (goss)\",\n",
    "    \"XGBoost\": \"XGBoost\",\n",
    "    \"AutoGluon\": \"AutoGluon\",\n",
    "    \"TabTransformer\": \"TabTransformer\"\n",
    "}\n",
    "\n",
    "skf = StratifiedKFold(n_splits=configs.n_folds, random_state=configs.seed, shuffle=True)\n",
    "\n",
    "for model in models:\n",
    "    fold_scores = []\n",
    "    preds = oof_pred_probs[model_keys[model]]\n",
    "    \n",
    "    for _, val_idx in skf.split(X, y):\n",
    "        fold_score = map3(y[val_idx], preds[val_idx])\n",
    "        fold_scores.append(fold_score)\n",
    "\n",
    "    scores[model] = fold_scores"
   ]
  },
  {
   "cell_type": "code",
   "execution_count": 9,
   "id": "aea2ae0a",
   "metadata": {},
   "outputs": [],
   "source": [
    "# Define training & testing sets from oof_pred_probs & test_pred_probs\n",
    "X_ensemble = pd.DataFrame(np.concatenate(list(oof_pred_probs.values()), axis=1))\n",
    "X_ensemble_test = pd.DataFrame(np.concatenate(list(test_pred_probs.values()), axis=1))"
   ]
  },
  {
   "cell_type": "markdown",
   "id": "aaa3af24",
   "metadata": {},
   "source": [
    "# 4. Define Logistic Regression Model"
   ]
  },
  {
   "cell_type": "code",
   "execution_count": 10,
   "id": "17cb8612",
   "metadata": {},
   "outputs": [
    {
     "name": "stdout",
     "output_type": "stream",
     "text": [
      "Training LogisticRegression\n",
      "\n",
      "--- Fold 1 - MAP@3: 0.366181\n",
      "--- Fold 2 - MAP@3: 0.367057\n",
      "--- Fold 3 - MAP@3: 0.369009\n",
      "--- Fold 4 - MAP@3: 0.367234\n",
      "--- Fold 5 - MAP@3: 0.367124\n",
      "\n",
      "------ Overall MAP@3: 0.367321 | Average MAP@3: 0.367321 ± 0.000924\n"
     ]
    }
   ],
   "source": [
    "#scores = {}\n",
    "\n",
    "lr_model = LogisticRegression(\n",
    "    random_state=42, \n",
    "    max_iter=1000, \n",
    "    solver='liblinear', \n",
    "    penalty='l2', \n",
    "    C=32.89802104596641,\n",
    "    tol=0.0029878837974181643,\n",
    "    fit_intercept=True\n",
    ")\n",
    "\n",
    "lr_trainer = Trainer(lr_model)\n",
    "_, lr_test_pred_probs, scores[\"LogisticRegression\"] = lr_trainer.fit_predict(X_ensemble, y, X_ensemble_test)"
   ]
  },
  {
   "cell_type": "code",
   "execution_count": 12,
   "id": "fe90ad96",
   "metadata": {},
   "outputs": [
    {
     "data": {
      "image/png": "[encoded data removed]",
      "text/plain": [
       "<Figure size 1500x240 with 2 Axes>"
      ]
     },
     "metadata": {},
     "output_type": "display_data"
    }
   ],
   "source": [
    "scores = pd.DataFrame(scores)\n",
    "mean_scores = scores.mean().sort_values(ascending=False)\n",
    "order = scores.mean().sort_values(ascending=False).index.tolist()\n",
    "\n",
    "min_score = mean_scores.min()\n",
    "max_score = mean_scores.max()\n",
    "padding = (max_score - min_score) * 0.5\n",
    "lower_limit = min_score - padding\n",
    "upper_limit = max_score + padding\n",
    "\n",
    "fig, axs = plt.subplots(1, 2, figsize=(15, scores.shape[1] * 0.4))\n",
    "\n",
    "boxplot = sns.boxplot(data=scores, order=order, ax=axs[0], orient=\"h\", color=\"grey\")\n",
    "axs[0].set_title(f\"Fold MAP@3\")\n",
    "axs[0].set_xlabel(\"\")\n",
    "axs[0].set_ylabel(\"\")\n",
    "\n",
    "barplot = sns.barplot(x=mean_scores.values, y=mean_scores.index, ax=axs[1], color=\"grey\")\n",
    "axs[1].set_title(f\"Mean MAP@3\")\n",
    "axs[1].set_xlabel(\"\")\n",
    "axs[1].set_xlim(left=lower_limit, right=upper_limit)\n",
    "axs[1].set_ylabel(\"\")\n",
    "\n",
    "for i, (score, model) in enumerate(zip(mean_scores.values, mean_scores.index)):\n",
    "    color = \"cyan\" if \"logistic\" in model.lower() else \"grey\"\n",
    "    barplot.patches[i].set_facecolor(color)\n",
    "    boxplot.patches[i].set_facecolor(color)\n",
    "    barplot.text(score, i, round(score, 6), va=\"center\")\n",
    "\n",
    "plt.tight_layout()\n",
    "plt.show()"
   ]
  }
 ],
 "metadata": {
  "kernelspec": {
   "display_name": "myenv",
   "language": "python",
   "name": "python3"
  },
  "language_info": {
   "codemirror_mode": {
    "name": "ipython",
    "version": 3
   },
   "file_extension": ".py",
   "mimetype": "text/x-python",
   "name": "python",
   "nbconvert_exporter": "python",
   "pygments_lexer": "ipython3",
   "version": "3.11.13"
  }
 },
 "nbformat": 4,
 "nbformat_minor": 5
}
