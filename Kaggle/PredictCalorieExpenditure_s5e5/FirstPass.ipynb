{
 "cells": [
  {
   "cell_type": "code",
   "execution_count": 13,
   "id": "de5786af",
   "metadata": {},
   "outputs": [],
   "source": [
    "import numpy as np\n",
    "import pandas as pd\n",
    "from sklearn.model_selection import train_test_split\n",
    "from sklearn.preprocessing import LabelEncoder, StandardScaler\n",
    "from sklearn.linear_model import LinearRegression\n",
    "from sklearn.metrics import mean_squared_error, r2_score\n",
    "from sklearn.ensemble import RandomForestRegressor\n",
    "from sklearn.ensemble import GradientBoostingRegressor"
   ]
  },
  {
   "cell_type": "code",
   "execution_count": null,
   "id": "5c2e4586",
   "metadata": {},
   "outputs": [],
   "source": [
    "### Data Preprocessing ###\n",
    "\n",
    "# Load Data\n",
    "df = pd.read_csv(\"train.csv\")\n",
    "\n",
    "# Encode male/female to 1/0\n",
    "df_encoded = df.copy()\n",
    "df_encoded['Sex'] = LabelEncoder().fit_transform(df_encoded[\"Sex\"])\n",
    "\n",
    "# Define features & objective\n",
    "X = df_encoded.drop(\"Calories\", axis=1)\n",
    "Y = df_encoded[\"Calories\"]\n",
    "\n",
    "# Standardize input data\n",
    "scaler = StandardScaler()\n",
    "X_scaled = scaler.fit_transform(X)\n",
    "\n",
    "# Split data further for internal validation\n",
    "X_train, X_val, Y_train, Y_val = train_test_split(X_scaled, Y, test_size=0.2)"
   ]
  },
  {
   "cell_type": "code",
   "execution_count": 19,
   "id": "54a03bb8",
   "metadata": {},
   "outputs": [
    {
     "name": "stdout",
     "output_type": "stream",
     "text": [
      "Linear Regression R^2 = 0.968370794584094\n",
      "MSE: 122.72076319931607\n",
      "RMSLE = 0.5602405307638778\n"
     ]
    }
   ],
   "source": [
    "### Regression Model ###\n",
    "\n",
    "lr = LinearRegression()\n",
    "lr.fit(X_train, Y_train)\n",
    "y_pred_lr = lr.predict(X_val)\n",
    "\n",
    "def rmsle(y_true, y_pred):\n",
    "    y_pred = np.maximum(0, y_pred)\n",
    "    return np.sqrt(np.mean((np.log1p(y_pred) - np.log1p(y_true)) ** 2))\n",
    "\n",
    "print(\"Linear Regression R^2 = {}\".format(r2_score(Y_val, y_pred_lr)))\n",
    "print(\"MSE:\", mean_squared_error(Y_val, y_pred_lr))\n",
    "print(\"RMSLE = {}\".format(rmsle(Y_val, y_pred_lr)))"
   ]
  },
  {
   "cell_type": "code",
   "execution_count": 20,
   "id": "8cad9a82",
   "metadata": {},
   "outputs": [
    {
     "name": "stdout",
     "output_type": "stream",
     "text": [
      "Random Forest R²: 0.9962434144781092\n",
      "MSE: 14.575486048666667\n",
      "RMSLE = 0.06320351146421233\n"
     ]
    }
   ],
   "source": [
    "## Random Forest Regressor ##\n",
    "\n",
    "rf = RandomForestRegressor()\n",
    "rf.fit(X_train, Y_train)\n",
    "y_pred_rf = rf.predict(X_val)\n",
    "\n",
    "print(\"Random Forest R²:\", r2_score(Y_val, y_pred_rf))\n",
    "print(\"MSE:\", mean_squared_error(Y_val, y_pred_rf))\n",
    "print(\"RMSLE = {}\".format(rmsle(Y_val, y_pred_rf)))"
   ]
  },
  {
   "cell_type": "code",
   "execution_count": 21,
   "id": "7b87fff0",
   "metadata": {},
   "outputs": [
    {
     "name": "stdout",
     "output_type": "stream",
     "text": [
      "Gradient Boosting R²: 0.9941345721757007\n",
      "MSE: 22.757757257048493\n",
      "RMSLE = 0.13862958655627997\n"
     ]
    }
   ],
   "source": [
    "## Gradient Boosting ##\n",
    "\n",
    "gb = GradientBoostingRegressor()\n",
    "gb.fit(X_train, Y_train)\n",
    "y_pred_gb = gb.predict(X_val)\n",
    "\n",
    "print(\"Gradient Boosting R²:\", r2_score(Y_val, y_pred_gb))\n",
    "print(\"MSE:\", mean_squared_error(Y_val, y_pred_gb))\n",
    "print(\"RMSLE = {}\".format(rmsle(Y_val, y_pred_gb)))"
   ]
  },
  {
   "cell_type": "code",
   "execution_count": null,
   "id": "35229daf",
   "metadata": {},
   "outputs": [
    {
     "ename": "TypeError",
     "evalue": "read_csv() missing 1 required positional argument: 'filepath_or_buffer'",
     "output_type": "error",
     "traceback": [
      "\u001b[1;31m---------------------------------------------------------------------------\u001b[0m",
      "\u001b[1;31mTypeError\u001b[0m                                 Traceback (most recent call last)",
      "Cell \u001b[1;32mIn[24], line 2\u001b[0m\n\u001b[0;32m      1\u001b[0m df_test \u001b[38;5;241m=\u001b[39m pd\u001b[38;5;241m.\u001b[39mread_csv(\u001b[38;5;124m\"\u001b[39m\u001b[38;5;124mtest.csv\u001b[39m\u001b[38;5;124m\"\u001b[39m)\n\u001b[1;32m----> 2\u001b[0m dt_sample \u001b[38;5;241m=\u001b[39m \u001b[43mpd\u001b[49m\u001b[38;5;241;43m.\u001b[39;49m\u001b[43mread_csv\u001b[49m\u001b[43m(\u001b[49m\u001b[43m)\u001b[49m\n\u001b[0;32m      4\u001b[0m \u001b[38;5;66;03m# Encode male/female to 1/0\u001b[39;00m\n\u001b[0;32m      5\u001b[0m df_test_encoded \u001b[38;5;241m=\u001b[39m df_test\u001b[38;5;241m.\u001b[39mcopy()\n",
      "File \u001b[1;32mc:\\Users\\Brad\\anaconda3\\lib\\site-packages\\pandas\\util\\_decorators.py:211\u001b[0m, in \u001b[0;36mdeprecate_kwarg.<locals>._deprecate_kwarg.<locals>.wrapper\u001b[1;34m(*args, **kwargs)\u001b[0m\n\u001b[0;32m    209\u001b[0m     \u001b[38;5;28;01melse\u001b[39;00m:\n\u001b[0;32m    210\u001b[0m         kwargs[new_arg_name] \u001b[38;5;241m=\u001b[39m new_arg_value\n\u001b[1;32m--> 211\u001b[0m \u001b[38;5;28;01mreturn\u001b[39;00m func(\u001b[38;5;241m*\u001b[39margs, \u001b[38;5;241m*\u001b[39m\u001b[38;5;241m*\u001b[39mkwargs)\n",
      "File \u001b[1;32mc:\\Users\\Brad\\anaconda3\\lib\\site-packages\\pandas\\util\\_decorators.py:331\u001b[0m, in \u001b[0;36mdeprecate_nonkeyword_arguments.<locals>.decorate.<locals>.wrapper\u001b[1;34m(*args, **kwargs)\u001b[0m\n\u001b[0;32m    325\u001b[0m \u001b[38;5;28;01mif\u001b[39;00m \u001b[38;5;28mlen\u001b[39m(args) \u001b[38;5;241m>\u001b[39m num_allow_args:\n\u001b[0;32m    326\u001b[0m     warnings\u001b[38;5;241m.\u001b[39mwarn(\n\u001b[0;32m    327\u001b[0m         msg\u001b[38;5;241m.\u001b[39mformat(arguments\u001b[38;5;241m=\u001b[39m_format_argument_list(allow_args)),\n\u001b[0;32m    328\u001b[0m         \u001b[38;5;167;01mFutureWarning\u001b[39;00m,\n\u001b[0;32m    329\u001b[0m         stacklevel\u001b[38;5;241m=\u001b[39mfind_stack_level(),\n\u001b[0;32m    330\u001b[0m     )\n\u001b[1;32m--> 331\u001b[0m \u001b[38;5;28;01mreturn\u001b[39;00m func(\u001b[38;5;241m*\u001b[39margs, \u001b[38;5;241m*\u001b[39m\u001b[38;5;241m*\u001b[39mkwargs)\n",
      "\u001b[1;31mTypeError\u001b[0m: read_csv() missing 1 required positional argument: 'filepath_or_buffer'"
     ]
    }
   ],
   "source": [
    "df_test = pd.read_csv(\"test.csv\")\n",
    "\n",
    "# Encode male/female to 1/0\n",
    "df_test_encoded = df_test.copy()\n",
    "df_test_encoded['Sex'] = LabelEncoder().fit_transform(df_test_encoded[\"Sex\"])\n",
    "test_scaled = scaler.transform(df_test_encoded)"
   ]
  },
  {
   "cell_type": "code",
   "execution_count": 26,
   "id": "57f8ef46",
   "metadata": {},
   "outputs": [
    {
     "data": {
      "text/html": [
       "<div>\n",
       "<style scoped>\n",
       "    .dataframe tbody tr th:only-of-type {\n",
       "        vertical-align: middle;\n",
       "    }\n",
       "\n",
       "    .dataframe tbody tr th {\n",
       "        vertical-align: top;\n",
       "    }\n",
       "\n",
       "    .dataframe thead th {\n",
       "        text-align: right;\n",
       "    }\n",
       "</style>\n",
       "<table border=\"1\" class=\"dataframe\">\n",
       "  <thead>\n",
       "    <tr style=\"text-align: right;\">\n",
       "      <th></th>\n",
       "      <th>id</th>\n",
       "      <th>Calories</th>\n",
       "    </tr>\n",
       "  </thead>\n",
       "  <tbody>\n",
       "    <tr>\n",
       "      <th>0</th>\n",
       "      <td>750000</td>\n",
       "      <td>88.283</td>\n",
       "    </tr>\n",
       "    <tr>\n",
       "      <th>1</th>\n",
       "      <td>750001</td>\n",
       "      <td>88.283</td>\n",
       "    </tr>\n",
       "    <tr>\n",
       "      <th>2</th>\n",
       "      <td>750002</td>\n",
       "      <td>88.283</td>\n",
       "    </tr>\n",
       "    <tr>\n",
       "      <th>3</th>\n",
       "      <td>750003</td>\n",
       "      <td>88.283</td>\n",
       "    </tr>\n",
       "    <tr>\n",
       "      <th>4</th>\n",
       "      <td>750004</td>\n",
       "      <td>88.283</td>\n",
       "    </tr>\n",
       "  </tbody>\n",
       "</table>\n",
       "</div>"
      ],
      "text/plain": [
       "       id  Calories\n",
       "0  750000    88.283\n",
       "1  750001    88.283\n",
       "2  750002    88.283\n",
       "3  750003    88.283\n",
       "4  750004    88.283"
      ]
     },
     "execution_count": 26,
     "metadata": {},
     "output_type": "execute_result"
    }
   ],
   "source": [
    "dt_sample = pd.read_csv(\"sample_submission.csv\")\n",
    "\n",
    "dt_sample.head()"
   ]
  },
  {
   "cell_type": "code",
   "execution_count": 29,
   "id": "3743659d",
   "metadata": {},
   "outputs": [
    {
     "name": "stdout",
     "output_type": "stream",
     "text": [
      "(250000,)\n",
      "[ 27.27 108.34  87.73 ...  72.37 168.4   78.45]\n"
     ]
    }
   ],
   "source": [
    "rf_pred_test = rf.predict(test_scaled)\n",
    "print(np.shape(rf_pred_test))\n",
    "print(rf_pred_test)"
   ]
  },
  {
   "cell_type": "code",
   "execution_count": 30,
   "id": "f947e1a9",
   "metadata": {},
   "outputs": [
    {
     "name": "stdout",
     "output_type": "stream",
     "text": [
      "✅ Submission file created using IDs from df_test!\n"
     ]
    }
   ],
   "source": [
    "# Create the submission DataFrame using the actual IDs from df_test\n",
    "submission = pd.DataFrame({\n",
    "    'id': df_test['id'],\n",
    "    'Calories': rf_pred_test\n",
    "})\n",
    "\n",
    "# Export to CSV\n",
    "submission.to_csv('submission.csv', index=False)\n",
    "\n",
    "print(\"✅ Submission file created using IDs from df_test!\")"
   ]
  },
  {
   "cell_type": "code",
   "execution_count": 31,
   "id": "8fa9df03",
   "metadata": {},
   "outputs": [
    {
     "data": {
      "text/html": [
       "<div>\n",
       "<style scoped>\n",
       "    .dataframe tbody tr th:only-of-type {\n",
       "        vertical-align: middle;\n",
       "    }\n",
       "\n",
       "    .dataframe tbody tr th {\n",
       "        vertical-align: top;\n",
       "    }\n",
       "\n",
       "    .dataframe thead th {\n",
       "        text-align: right;\n",
       "    }\n",
       "</style>\n",
       "<table border=\"1\" class=\"dataframe\">\n",
       "  <thead>\n",
       "    <tr style=\"text-align: right;\">\n",
       "      <th></th>\n",
       "      <th>id</th>\n",
       "      <th>Calories</th>\n",
       "    </tr>\n",
       "  </thead>\n",
       "  <tbody>\n",
       "    <tr>\n",
       "      <th>0</th>\n",
       "      <td>750000</td>\n",
       "      <td>27.27</td>\n",
       "    </tr>\n",
       "    <tr>\n",
       "      <th>1</th>\n",
       "      <td>750001</td>\n",
       "      <td>108.34</td>\n",
       "    </tr>\n",
       "    <tr>\n",
       "      <th>2</th>\n",
       "      <td>750002</td>\n",
       "      <td>87.73</td>\n",
       "    </tr>\n",
       "    <tr>\n",
       "      <th>3</th>\n",
       "      <td>750003</td>\n",
       "      <td>128.08</td>\n",
       "    </tr>\n",
       "    <tr>\n",
       "      <th>4</th>\n",
       "      <td>750004</td>\n",
       "      <td>75.43</td>\n",
       "    </tr>\n",
       "  </tbody>\n",
       "</table>\n",
       "</div>"
      ],
      "text/plain": [
       "       id  Calories\n",
       "0  750000     27.27\n",
       "1  750001    108.34\n",
       "2  750002     87.73\n",
       "3  750003    128.08\n",
       "4  750004     75.43"
      ]
     },
     "execution_count": 31,
     "metadata": {},
     "output_type": "execute_result"
    }
   ],
   "source": [
    "submission_view = pd.read_csv(\"submission.csv\")\n",
    "submission_view.head()"
   ]
  },
  {
   "cell_type": "code",
   "execution_count": null,
   "id": "d435825a",
   "metadata": {},
   "outputs": [],
   "source": []
  }
 ],
 "metadata": {
  "kernelspec": {
   "display_name": "base",
   "language": "python",
   "name": "python3"
  },
  "language_info": {
   "codemirror_mode": {
    "name": "ipython",
    "version": 3
   },
   "file_extension": ".py",
   "mimetype": "text/x-python",
   "name": "python",
   "nbconvert_exporter": "python",
   "pygments_lexer": "ipython3",
   "version": "3.10.9"
  }
 },
 "nbformat": 4,
 "nbformat_minor": 5
}
